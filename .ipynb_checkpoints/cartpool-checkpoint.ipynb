{
 "cells": [
  {
   "cell_type": "code",
   "execution_count": 4,
   "metadata": {
    "colab": {
     "base_uri": "https://localhost:8080/"
    },
    "id": "AduiCroCTgQ7",
    "outputId": "eeeed79b-129d-45ba-de8d-53df1a3a06e1"
   },
   "outputs": [
    {
     "name": "stdout",
     "output_type": "stream",
     "text": [
      "Requirement already satisfied: tensorflow in c:\\rasengan\\openaigym\\env\\lib\\site-packages (2.12.0)\n",
      "Requirement already satisfied: tensorflow-intel==2.12.0 in c:\\rasengan\\openaigym\\env\\lib\\site-packages (from tensorflow) (2.12.0)\n",
      "Requirement already satisfied: packaging in c:\\rasengan\\openaigym\\env\\lib\\site-packages (from tensorflow-intel==2.12.0->tensorflow) (23.1)\n",
      "Requirement already satisfied: astunparse>=1.6.0 in c:\\rasengan\\openaigym\\env\\lib\\site-packages (from tensorflow-intel==2.12.0->tensorflow) (1.6.3)\n",
      "Requirement already satisfied: tensorflow-io-gcs-filesystem>=0.23.1 in c:\\rasengan\\openaigym\\env\\lib\\site-packages (from tensorflow-intel==2.12.0->tensorflow) (0.31.0)\n",
      "Requirement already satisfied: gast<=0.4.0,>=0.2.1 in c:\\rasengan\\openaigym\\env\\lib\\site-packages (from tensorflow-intel==2.12.0->tensorflow) (0.4.0)\n",
      "Requirement already satisfied: libclang>=13.0.0 in c:\\rasengan\\openaigym\\env\\lib\\site-packages (from tensorflow-intel==2.12.0->tensorflow) (16.0.0)\n",
      "Requirement already satisfied: protobuf!=4.21.0,!=4.21.1,!=4.21.2,!=4.21.3,!=4.21.4,!=4.21.5,<5.0.0dev,>=3.20.3 in c:\\rasengan\\openaigym\\env\\lib\\site-packages (from tensorflow-intel==2.12.0->tensorflow) (4.23.1)\n",
      "Requirement already satisfied: setuptools in c:\\rasengan\\openaigym\\env\\lib\\site-packages (from tensorflow-intel==2.12.0->tensorflow) (58.1.0)\n",
      "Requirement already satisfied: typing-extensions>=3.6.6 in c:\\rasengan\\openaigym\\env\\lib\\site-packages (from tensorflow-intel==2.12.0->tensorflow) (4.5.0)\n",
      "Requirement already satisfied: opt-einsum>=2.3.2 in c:\\rasengan\\openaigym\\env\\lib\\site-packages (from tensorflow-intel==2.12.0->tensorflow) (3.3.0)\n",
      "Requirement already satisfied: tensorboard<2.13,>=2.12 in c:\\rasengan\\openaigym\\env\\lib\\site-packages (from tensorflow-intel==2.12.0->tensorflow) (2.12.3)\n",
      "Requirement already satisfied: termcolor>=1.1.0 in c:\\rasengan\\openaigym\\env\\lib\\site-packages (from tensorflow-intel==2.12.0->tensorflow) (2.3.0)\n",
      "Requirement already satisfied: grpcio<2.0,>=1.24.3 in c:\\rasengan\\openaigym\\env\\lib\\site-packages (from tensorflow-intel==2.12.0->tensorflow) (1.54.2)\n",
      "Requirement already satisfied: jax>=0.3.15 in c:\\rasengan\\openaigym\\env\\lib\\site-packages (from tensorflow-intel==2.12.0->tensorflow) (0.4.10)\n",
      "Requirement already satisfied: wrapt<1.15,>=1.11.0 in c:\\rasengan\\openaigym\\env\\lib\\site-packages (from tensorflow-intel==2.12.0->tensorflow) (1.14.1)\n",
      "Requirement already satisfied: h5py>=2.9.0 in c:\\rasengan\\openaigym\\env\\lib\\site-packages (from tensorflow-intel==2.12.0->tensorflow) (3.8.0)\n",
      "Requirement already satisfied: keras<2.13,>=2.12.0 in c:\\rasengan\\openaigym\\env\\lib\\site-packages (from tensorflow-intel==2.12.0->tensorflow) (2.12.0)\n",
      "Requirement already satisfied: google-pasta>=0.1.1 in c:\\rasengan\\openaigym\\env\\lib\\site-packages (from tensorflow-intel==2.12.0->tensorflow) (0.2.0)\n",
      "Requirement already satisfied: absl-py>=1.0.0 in c:\\rasengan\\openaigym\\env\\lib\\site-packages (from tensorflow-intel==2.12.0->tensorflow) (1.4.0)\n",
      "Requirement already satisfied: six>=1.12.0 in c:\\rasengan\\openaigym\\env\\lib\\site-packages (from tensorflow-intel==2.12.0->tensorflow) (1.16.0)\n",
      "Requirement already satisfied: numpy<1.24,>=1.22 in c:\\rasengan\\openaigym\\env\\lib\\site-packages (from tensorflow-intel==2.12.0->tensorflow) (1.23.5)\n",
      "Requirement already satisfied: tensorflow-estimator<2.13,>=2.12.0 in c:\\rasengan\\openaigym\\env\\lib\\site-packages (from tensorflow-intel==2.12.0->tensorflow) (2.12.0)\n",
      "Requirement already satisfied: flatbuffers>=2.0 in c:\\rasengan\\openaigym\\env\\lib\\site-packages (from tensorflow-intel==2.12.0->tensorflow) (23.5.9)\n",
      "Requirement already satisfied: wheel<1.0,>=0.23.0 in c:\\rasengan\\openaigym\\env\\lib\\site-packages (from astunparse>=1.6.0->tensorflow-intel==2.12.0->tensorflow) (0.40.0)\n",
      "Requirement already satisfied: ml-dtypes>=0.1.0 in c:\\rasengan\\openaigym\\env\\lib\\site-packages (from jax>=0.3.15->tensorflow-intel==2.12.0->tensorflow) (0.1.0)\n",
      "Requirement already satisfied: scipy>=1.7 in c:\\rasengan\\openaigym\\env\\lib\\site-packages (from jax>=0.3.15->tensorflow-intel==2.12.0->tensorflow) (1.10.1)\n",
      "Requirement already satisfied: google-auth<3,>=1.6.3 in c:\\rasengan\\openaigym\\env\\lib\\site-packages (from tensorboard<2.13,>=2.12->tensorflow-intel==2.12.0->tensorflow) (2.18.1)\n",
      "Requirement already satisfied: requests<3,>=2.21.0 in c:\\rasengan\\openaigym\\env\\lib\\site-packages (from tensorboard<2.13,>=2.12->tensorflow-intel==2.12.0->tensorflow) (2.30.0)\n",
      "Requirement already satisfied: google-auth-oauthlib<1.1,>=0.5 in c:\\rasengan\\openaigym\\env\\lib\\site-packages (from tensorboard<2.13,>=2.12->tensorflow-intel==2.12.0->tensorflow) (1.0.0)\n",
      "Requirement already satisfied: markdown>=2.6.8 in c:\\rasengan\\openaigym\\env\\lib\\site-packages (from tensorboard<2.13,>=2.12->tensorflow-intel==2.12.0->tensorflow) (3.4.3)\n",
      "Requirement already satisfied: werkzeug>=1.0.1 in c:\\rasengan\\openaigym\\env\\lib\\site-packages (from tensorboard<2.13,>=2.12->tensorflow-intel==2.12.0->tensorflow) (2.3.4)\n",
      "Requirement already satisfied: tensorboard-data-server<0.8.0,>=0.7.0 in c:\\rasengan\\openaigym\\env\\lib\\site-packages (from tensorboard<2.13,>=2.12->tensorflow-intel==2.12.0->tensorflow) (0.7.0)\n",
      "Requirement already satisfied: rsa<5,>=3.1.4 in c:\\rasengan\\openaigym\\env\\lib\\site-packages (from google-auth<3,>=1.6.3->tensorboard<2.13,>=2.12->tensorflow-intel==2.12.0->tensorflow) (4.9)\n",
      "Requirement already satisfied: pyasn1-modules>=0.2.1 in c:\\rasengan\\openaigym\\env\\lib\\site-packages (from google-auth<3,>=1.6.3->tensorboard<2.13,>=2.12->tensorflow-intel==2.12.0->tensorflow) (0.3.0)\n",
      "Requirement already satisfied: urllib3<2.0 in c:\\rasengan\\openaigym\\env\\lib\\site-packages (from google-auth<3,>=1.6.3->tensorboard<2.13,>=2.12->tensorflow-intel==2.12.0->tensorflow) (1.26.15)\n",
      "Requirement already satisfied: cachetools<6.0,>=2.0.0 in c:\\rasengan\\openaigym\\env\\lib\\site-packages (from google-auth<3,>=1.6.3->tensorboard<2.13,>=2.12->tensorflow-intel==2.12.0->tensorflow) (5.3.0)\n",
      "Requirement already satisfied: requests-oauthlib>=0.7.0 in c:\\rasengan\\openaigym\\env\\lib\\site-packages (from google-auth-oauthlib<1.1,>=0.5->tensorboard<2.13,>=2.12->tensorflow-intel==2.12.0->tensorflow) (1.3.1)\n",
      "Requirement already satisfied: certifi>=2017.4.17 in c:\\rasengan\\openaigym\\env\\lib\\site-packages (from requests<3,>=2.21.0->tensorboard<2.13,>=2.12->tensorflow-intel==2.12.0->tensorflow) (2023.5.7)\n",
      "Requirement already satisfied: charset-normalizer<4,>=2 in c:\\rasengan\\openaigym\\env\\lib\\site-packages (from requests<3,>=2.21.0->tensorboard<2.13,>=2.12->tensorflow-intel==2.12.0->tensorflow) (3.1.0)\n",
      "Requirement already satisfied: idna<4,>=2.5 in c:\\rasengan\\openaigym\\env\\lib\\site-packages (from requests<3,>=2.21.0->tensorboard<2.13,>=2.12->tensorflow-intel==2.12.0->tensorflow) (3.4)\n",
      "Requirement already satisfied: MarkupSafe>=2.1.1 in c:\\rasengan\\openaigym\\env\\lib\\site-packages (from werkzeug>=1.0.1->tensorboard<2.13,>=2.12->tensorflow-intel==2.12.0->tensorflow) (2.1.2)\n",
      "Requirement already satisfied: pyasn1<0.6.0,>=0.4.6 in c:\\rasengan\\openaigym\\env\\lib\\site-packages (from pyasn1-modules>=0.2.1->google-auth<3,>=1.6.3->tensorboard<2.13,>=2.12->tensorflow-intel==2.12.0->tensorflow) (0.5.0)\n",
      "Requirement already satisfied: oauthlib>=3.0.0 in c:\\rasengan\\openaigym\\env\\lib\\site-packages (from requests-oauthlib>=0.7.0->google-auth-oauthlib<1.1,>=0.5->tensorboard<2.13,>=2.12->tensorflow-intel==2.12.0->tensorflow) (3.2.2)\n"
     ]
    },
    {
     "name": "stderr",
     "output_type": "stream",
     "text": [
      "WARNING: You are using pip version 22.0.4; however, version 23.1.2 is available.\n",
      "You should consider upgrading via the 'C:\\rasengan\\OpenAIGym\\env\\Scripts\\python.exe -m pip install --upgrade pip' command.\n"
     ]
    },
    {
     "name": "stdout",
     "output_type": "stream",
     "text": [
      "Requirement already satisfied: gym in c:\\rasengan\\openaigym\\env\\lib\\site-packages (0.26.2)\n",
      "Requirement already satisfied: cloudpickle>=1.2.0 in c:\\rasengan\\openaigym\\env\\lib\\site-packages (from gym) (2.2.1)\n",
      "Requirement already satisfied: numpy>=1.18.0 in c:\\rasengan\\openaigym\\env\\lib\\site-packages (from gym) (1.23.5)\n",
      "Requirement already satisfied: gym-notices>=0.0.4 in c:\\rasengan\\openaigym\\env\\lib\\site-packages (from gym) (0.0.8)\n"
     ]
    },
    {
     "name": "stderr",
     "output_type": "stream",
     "text": [
      "WARNING: You are using pip version 22.0.4; however, version 23.1.2 is available.\n",
      "You should consider upgrading via the 'C:\\rasengan\\OpenAIGym\\env\\Scripts\\python.exe -m pip install --upgrade pip' command.\n"
     ]
    },
    {
     "name": "stdout",
     "output_type": "stream",
     "text": [
      "Requirement already satisfied: keras in c:\\rasengan\\openaigym\\env\\lib\\site-packages (2.12.0)\n"
     ]
    },
    {
     "name": "stderr",
     "output_type": "stream",
     "text": [
      "WARNING: You are using pip version 22.0.4; however, version 23.1.2 is available.\n",
      "You should consider upgrading via the 'C:\\rasengan\\OpenAIGym\\env\\Scripts\\python.exe -m pip install --upgrade pip' command.\n"
     ]
    },
    {
     "name": "stdout",
     "output_type": "stream",
     "text": [
      "Requirement already satisfied: keras-rl2 in c:\\rasengan\\openaigym\\env\\lib\\site-packages (1.0.5)\n",
      "Requirement already satisfied: tensorflow in c:\\rasengan\\openaigym\\env\\lib\\site-packages (from keras-rl2) (2.12.0)\n",
      "Requirement already satisfied: tensorflow-intel==2.12.0 in c:\\rasengan\\openaigym\\env\\lib\\site-packages (from tensorflow->keras-rl2) (2.12.0)\n",
      "Requirement already satisfied: flatbuffers>=2.0 in c:\\rasengan\\openaigym\\env\\lib\\site-packages (from tensorflow-intel==2.12.0->tensorflow->keras-rl2) (23.5.9)\n",
      "Requirement already satisfied: setuptools in c:\\rasengan\\openaigym\\env\\lib\\site-packages (from tensorflow-intel==2.12.0->tensorflow->keras-rl2) (58.1.0)\n",
      "Requirement already satisfied: libclang>=13.0.0 in c:\\rasengan\\openaigym\\env\\lib\\site-packages (from tensorflow-intel==2.12.0->tensorflow->keras-rl2) (16.0.0)\n",
      "Requirement already satisfied: h5py>=2.9.0 in c:\\rasengan\\openaigym\\env\\lib\\site-packages (from tensorflow-intel==2.12.0->tensorflow->keras-rl2) (3.8.0)\n",
      "Requirement already satisfied: google-pasta>=0.1.1 in c:\\rasengan\\openaigym\\env\\lib\\site-packages (from tensorflow-intel==2.12.0->tensorflow->keras-rl2) (0.2.0)\n",
      "Requirement already satisfied: tensorflow-estimator<2.13,>=2.12.0 in c:\\rasengan\\openaigym\\env\\lib\\site-packages (from tensorflow-intel==2.12.0->tensorflow->keras-rl2) (2.12.0)\n",
      "Requirement already satisfied: keras<2.13,>=2.12.0 in c:\\rasengan\\openaigym\\env\\lib\\site-packages (from tensorflow-intel==2.12.0->tensorflow->keras-rl2) (2.12.0)\n",
      "Requirement already satisfied: termcolor>=1.1.0 in c:\\rasengan\\openaigym\\env\\lib\\site-packages (from tensorflow-intel==2.12.0->tensorflow->keras-rl2) (2.3.0)\n",
      "Requirement already satisfied: numpy<1.24,>=1.22 in c:\\rasengan\\openaigym\\env\\lib\\site-packages (from tensorflow-intel==2.12.0->tensorflow->keras-rl2) (1.23.5)\n",
      "Requirement already satisfied: tensorflow-io-gcs-filesystem>=0.23.1 in c:\\rasengan\\openaigym\\env\\lib\\site-packages (from tensorflow-intel==2.12.0->tensorflow->keras-rl2) (0.31.0)\n",
      "Requirement already satisfied: wrapt<1.15,>=1.11.0 in c:\\rasengan\\openaigym\\env\\lib\\site-packages (from tensorflow-intel==2.12.0->tensorflow->keras-rl2) (1.14.1)\n",
      "Requirement already satisfied: gast<=0.4.0,>=0.2.1 in c:\\rasengan\\openaigym\\env\\lib\\site-packages (from tensorflow-intel==2.12.0->tensorflow->keras-rl2) (0.4.0)\n",
      "Requirement already satisfied: six>=1.12.0 in c:\\rasengan\\openaigym\\env\\lib\\site-packages (from tensorflow-intel==2.12.0->tensorflow->keras-rl2) (1.16.0)\n",
      "Requirement already satisfied: grpcio<2.0,>=1.24.3 in c:\\rasengan\\openaigym\\env\\lib\\site-packages (from tensorflow-intel==2.12.0->tensorflow->keras-rl2) (1.54.2)\n",
      "Requirement already satisfied: typing-extensions>=3.6.6 in c:\\rasengan\\openaigym\\env\\lib\\site-packages (from tensorflow-intel==2.12.0->tensorflow->keras-rl2) (4.5.0)\n",
      "Requirement already satisfied: protobuf!=4.21.0,!=4.21.1,!=4.21.2,!=4.21.3,!=4.21.4,!=4.21.5,<5.0.0dev,>=3.20.3 in c:\\rasengan\\openaigym\\env\\lib\\site-packages (from tensorflow-intel==2.12.0->tensorflow->keras-rl2) (4.23.1)\n",
      "Requirement already satisfied: packaging in c:\\rasengan\\openaigym\\env\\lib\\site-packages (from tensorflow-intel==2.12.0->tensorflow->keras-rl2) (23.1)\n",
      "Requirement already satisfied: opt-einsum>=2.3.2 in c:\\rasengan\\openaigym\\env\\lib\\site-packages (from tensorflow-intel==2.12.0->tensorflow->keras-rl2) (3.3.0)\n",
      "Requirement already satisfied: jax>=0.3.15 in c:\\rasengan\\openaigym\\env\\lib\\site-packages (from tensorflow-intel==2.12.0->tensorflow->keras-rl2) (0.4.10)\n",
      "Requirement already satisfied: astunparse>=1.6.0 in c:\\rasengan\\openaigym\\env\\lib\\site-packages (from tensorflow-intel==2.12.0->tensorflow->keras-rl2) (1.6.3)\n",
      "Requirement already satisfied: absl-py>=1.0.0 in c:\\rasengan\\openaigym\\env\\lib\\site-packages (from tensorflow-intel==2.12.0->tensorflow->keras-rl2) (1.4.0)\n",
      "Requirement already satisfied: tensorboard<2.13,>=2.12 in c:\\rasengan\\openaigym\\env\\lib\\site-packages (from tensorflow-intel==2.12.0->tensorflow->keras-rl2) (2.12.3)\n",
      "Requirement already satisfied: wheel<1.0,>=0.23.0 in c:\\rasengan\\openaigym\\env\\lib\\site-packages (from astunparse>=1.6.0->tensorflow-intel==2.12.0->tensorflow->keras-rl2) (0.40.0)\n",
      "Requirement already satisfied: ml-dtypes>=0.1.0 in c:\\rasengan\\openaigym\\env\\lib\\site-packages (from jax>=0.3.15->tensorflow-intel==2.12.0->tensorflow->keras-rl2) (0.1.0)\n",
      "Requirement already satisfied: scipy>=1.7 in c:\\rasengan\\openaigym\\env\\lib\\site-packages (from jax>=0.3.15->tensorflow-intel==2.12.0->tensorflow->keras-rl2) (1.10.1)\n",
      "Requirement already satisfied: google-auth-oauthlib<1.1,>=0.5 in c:\\rasengan\\openaigym\\env\\lib\\site-packages (from tensorboard<2.13,>=2.12->tensorflow-intel==2.12.0->tensorflow->keras-rl2) (1.0.0)\n",
      "Requirement already satisfied: requests<3,>=2.21.0 in c:\\rasengan\\openaigym\\env\\lib\\site-packages (from tensorboard<2.13,>=2.12->tensorflow-intel==2.12.0->tensorflow->keras-rl2) (2.30.0)\n",
      "Requirement already satisfied: markdown>=2.6.8 in c:\\rasengan\\openaigym\\env\\lib\\site-packages (from tensorboard<2.13,>=2.12->tensorflow-intel==2.12.0->tensorflow->keras-rl2) (3.4.3)\n",
      "Requirement already satisfied: tensorboard-data-server<0.8.0,>=0.7.0 in c:\\rasengan\\openaigym\\env\\lib\\site-packages (from tensorboard<2.13,>=2.12->tensorflow-intel==2.12.0->tensorflow->keras-rl2) (0.7.0)\n",
      "Requirement already satisfied: werkzeug>=1.0.1 in c:\\rasengan\\openaigym\\env\\lib\\site-packages (from tensorboard<2.13,>=2.12->tensorflow-intel==2.12.0->tensorflow->keras-rl2) (2.3.4)\n",
      "Requirement already satisfied: google-auth<3,>=1.6.3 in c:\\rasengan\\openaigym\\env\\lib\\site-packages (from tensorboard<2.13,>=2.12->tensorflow-intel==2.12.0->tensorflow->keras-rl2) (2.18.1)\n",
      "Requirement already satisfied: cachetools<6.0,>=2.0.0 in c:\\rasengan\\openaigym\\env\\lib\\site-packages (from google-auth<3,>=1.6.3->tensorboard<2.13,>=2.12->tensorflow-intel==2.12.0->tensorflow->keras-rl2) (5.3.0)\n",
      "Requirement already satisfied: pyasn1-modules>=0.2.1 in c:\\rasengan\\openaigym\\env\\lib\\site-packages (from google-auth<3,>=1.6.3->tensorboard<2.13,>=2.12->tensorflow-intel==2.12.0->tensorflow->keras-rl2) (0.3.0)\n",
      "Requirement already satisfied: urllib3<2.0 in c:\\rasengan\\openaigym\\env\\lib\\site-packages (from google-auth<3,>=1.6.3->tensorboard<2.13,>=2.12->tensorflow-intel==2.12.0->tensorflow->keras-rl2) (1.26.15)\n",
      "Requirement already satisfied: rsa<5,>=3.1.4 in c:\\rasengan\\openaigym\\env\\lib\\site-packages (from google-auth<3,>=1.6.3->tensorboard<2.13,>=2.12->tensorflow-intel==2.12.0->tensorflow->keras-rl2) (4.9)\n",
      "Requirement already satisfied: requests-oauthlib>=0.7.0 in c:\\rasengan\\openaigym\\env\\lib\\site-packages (from google-auth-oauthlib<1.1,>=0.5->tensorboard<2.13,>=2.12->tensorflow-intel==2.12.0->tensorflow->keras-rl2) (1.3.1)\n",
      "Requirement already satisfied: charset-normalizer<4,>=2 in c:\\rasengan\\openaigym\\env\\lib\\site-packages (from requests<3,>=2.21.0->tensorboard<2.13,>=2.12->tensorflow-intel==2.12.0->tensorflow->keras-rl2) (3.1.0)\n",
      "Requirement already satisfied: certifi>=2017.4.17 in c:\\rasengan\\openaigym\\env\\lib\\site-packages (from requests<3,>=2.21.0->tensorboard<2.13,>=2.12->tensorflow-intel==2.12.0->tensorflow->keras-rl2) (2023.5.7)\n",
      "Requirement already satisfied: idna<4,>=2.5 in c:\\rasengan\\openaigym\\env\\lib\\site-packages (from requests<3,>=2.21.0->tensorboard<2.13,>=2.12->tensorflow-intel==2.12.0->tensorflow->keras-rl2) (3.4)\n",
      "Requirement already satisfied: MarkupSafe>=2.1.1 in c:\\rasengan\\openaigym\\env\\lib\\site-packages (from werkzeug>=1.0.1->tensorboard<2.13,>=2.12->tensorflow-intel==2.12.0->tensorflow->keras-rl2) (2.1.2)\n",
      "Requirement already satisfied: pyasn1<0.6.0,>=0.4.6 in c:\\rasengan\\openaigym\\env\\lib\\site-packages (from pyasn1-modules>=0.2.1->google-auth<3,>=1.6.3->tensorboard<2.13,>=2.12->tensorflow-intel==2.12.0->tensorflow->keras-rl2) (0.5.0)\n",
      "Requirement already satisfied: oauthlib>=3.0.0 in c:\\rasengan\\openaigym\\env\\lib\\site-packages (from requests-oauthlib>=0.7.0->google-auth-oauthlib<1.1,>=0.5->tensorboard<2.13,>=2.12->tensorflow-intel==2.12.0->tensorflow->keras-rl2) (3.2.2)\n"
     ]
    },
    {
     "name": "stderr",
     "output_type": "stream",
     "text": [
      "WARNING: You are using pip version 22.0.4; however, version 23.1.2 is available.\n",
      "You should consider upgrading via the 'C:\\rasengan\\OpenAIGym\\env\\Scripts\\python.exe -m pip install --upgrade pip' command.\n"
     ]
    },
    {
     "name": "stdout",
     "output_type": "stream",
     "text": [
      "Requirement already satisfied: gym in c:\\rasengan\\openaigym\\env\\lib\\site-packages (0.26.2)\n",
      "Requirement already satisfied: gym-notices>=0.0.4 in c:\\rasengan\\openaigym\\env\\lib\\site-packages (from gym) (0.0.8)\n",
      "Requirement already satisfied: cloudpickle>=1.2.0 in c:\\rasengan\\openaigym\\env\\lib\\site-packages (from gym) (2.2.1)\n",
      "Requirement already satisfied: numpy>=1.18.0 in c:\\rasengan\\openaigym\\env\\lib\\site-packages (from gym) (1.23.5)\n"
     ]
    },
    {
     "name": "stderr",
     "output_type": "stream",
     "text": [
      "WARNING: You are using pip version 22.0.4; however, version 23.1.2 is available.\n",
      "You should consider upgrading via the 'C:\\rasengan\\OpenAIGym\\env\\Scripts\\python.exe -m pip install --upgrade pip' command.\n"
     ]
    }
   ],
   "source": [
    "!pip install tensorflow\n",
    "!pip install gym\n",
    "!pip install keras\n",
    "!pip install keras-rl2\n",
    "!pip install gym"
   ]
  },
  {
   "cell_type": "code",
   "execution_count": 8,
   "metadata": {},
   "outputs": [
    {
     "name": "stdout",
     "output_type": "stream",
     "text": [
      "Requirement already satisfied: gym in c:\\rasengan\\openaigym\\env\\lib\\site-packages (0.26.2)\n",
      "Requirement already satisfied: cloudpickle>=1.2.0 in c:\\rasengan\\openaigym\\env\\lib\\site-packages (from gym) (2.2.1)\n",
      "Requirement already satisfied: numpy>=1.18.0 in c:\\rasengan\\openaigym\\env\\lib\\site-packages (from gym) (1.23.5)\n",
      "Requirement already satisfied: gym-notices>=0.0.4 in c:\\rasengan\\openaigym\\env\\lib\\site-packages (from gym) (0.0.8)\n"
     ]
    },
    {
     "name": "stderr",
     "output_type": "stream",
     "text": [
      "WARNING: You are using pip version 22.0.4; however, version 23.1.2 is available.\n",
      "You should consider upgrading via the 'C:\\rasengan\\OpenAIGym\\env\\Scripts\\python.exe -m pip install --upgrade pip' command.\n"
     ]
    }
   ],
   "source": [
    "!pip install gym"
   ]
  },
  {
   "cell_type": "code",
   "execution_count": 7,
   "metadata": {
    "id": "QpekuRrRT6do"
   },
   "outputs": [
    {
     "ename": "ModuleNotFoundError",
     "evalue": "No module named 'gym'",
     "output_type": "error",
     "traceback": [
      "\u001b[1;31m---------------------------------------------------------------------------\u001b[0m",
      "\u001b[1;31mModuleNotFoundError\u001b[0m                       Traceback (most recent call last)",
      "Input \u001b[1;32mIn [7]\u001b[0m, in \u001b[0;36m<cell line: 1>\u001b[1;34m()\u001b[0m\n\u001b[1;32m----> 1\u001b[0m \u001b[38;5;28;01mimport\u001b[39;00m \u001b[38;5;21;01mgym\u001b[39;00m \n\u001b[0;32m      2\u001b[0m \u001b[38;5;28;01mimport\u001b[39;00m \u001b[38;5;21;01mrandom\u001b[39;00m\n\u001b[0;32m      4\u001b[0m \u001b[38;5;28;01mfrom\u001b[39;00m \u001b[38;5;21;01mrl\u001b[39;00m\u001b[38;5;21;01m.\u001b[39;00m\u001b[38;5;21;01magents\u001b[39;00m \u001b[38;5;28;01mimport\u001b[39;00m DQNAgent\n",
      "\u001b[1;31mModuleNotFoundError\u001b[0m: No module named 'gym'"
     ]
    }
   ],
   "source": [
    "import gym \n",
    "import random\n",
    "\n",
    "from rl.agents import DQNAgent\n",
    "from rl.policy import BoltzmannQPolicy\n",
    "from rl.memory import SequentialMemory"
   ]
  },
  {
   "cell_type": "code",
   "execution_count": 6,
   "metadata": {
    "colab": {
     "base_uri": "https://localhost:8080/"
    },
    "id": "XMPJL1GoUDxE",
    "outputId": "d2aa6269-9f75-4d59-e42c-f157ab1e57cc"
   },
   "outputs": [
    {
     "ename": "NameError",
     "evalue": "name 'gym' is not defined",
     "output_type": "error",
     "traceback": [
      "\u001b[1;31m---------------------------------------------------------------------------\u001b[0m",
      "\u001b[1;31mNameError\u001b[0m                                 Traceback (most recent call last)",
      "Input \u001b[1;32mIn [6]\u001b[0m, in \u001b[0;36m<cell line: 1>\u001b[1;34m()\u001b[0m\n\u001b[1;32m----> 1\u001b[0m env \u001b[38;5;241m=\u001b[39m \u001b[43mgym\u001b[49m\u001b[38;5;241m.\u001b[39mmake(\u001b[38;5;124m'\u001b[39m\u001b[38;5;124mCartPole-v1\u001b[39m\u001b[38;5;124m'\u001b[39m)\n\u001b[0;32m      2\u001b[0m states \u001b[38;5;241m=\u001b[39m env\u001b[38;5;241m.\u001b[39mobservation_space\u001b[38;5;241m.\u001b[39mshape[\u001b[38;5;241m0\u001b[39m]\n\u001b[0;32m      3\u001b[0m actions \u001b[38;5;241m=\u001b[39m env\u001b[38;5;241m.\u001b[39maction_space\u001b[38;5;241m.\u001b[39mn\n",
      "\u001b[1;31mNameError\u001b[0m: name 'gym' is not defined"
     ]
    }
   ],
   "source": [
    "env = gym.make('CartPole-v1')\n",
    "states = env.observation_space.shape[0]\n",
    "actions = env.action_space.n"
   ]
  },
  {
   "cell_type": "code",
   "execution_count": null,
   "metadata": {
    "colab": {
     "base_uri": "https://localhost:8080/"
    },
    "id": "vpIEpqsWUdde",
    "outputId": "f3017ee3-429b-46b6-b839-ee7f355d269d"
   },
   "outputs": [],
   "source": [
    "episodes = 10\n",
    "for episode in range(1, episodes+1):\n",
    "    state = env.reset()\n",
    "    done = False\n",
    "    score = 0 \n",
    "    \n",
    "    while not done:\n",
    "        # env.render()\n",
    "        action = random.choice([0,1])\n",
    "        n_state, reward, done, info = env.step(action)\n",
    "        score+=reward\n",
    "    print('Episode:{} Score:{}'.format(episode, score))"
   ]
  },
  {
   "cell_type": "code",
   "execution_count": null,
   "metadata": {
    "id": "vQfsRxBUUmcP"
   },
   "outputs": [],
   "source": []
  },
  {
   "cell_type": "code",
   "execution_count": null,
   "metadata": {
    "colab": {
     "base_uri": "https://localhost:8080/"
    },
    "id": "3HPXPrrGUpa9",
    "outputId": "93e3a0ef-58d5-410b-8d2d-45f180e1457b"
   },
   "outputs": [],
   "source": [
    "import numpy as np\n",
    "import tensorflow as tf\n",
    "from tensorflow.keras.models import Sequential\n",
    "from tensorflow.keras.layers import Dense, Flatten\n",
    "from tensorflow.keras.optimizers.legacy import Adam"
   ]
  },
  {
   "cell_type": "code",
   "execution_count": null,
   "metadata": {
    "id": "QSawevaDUvXW"
   },
   "outputs": [],
   "source": [
    "def build_model(states, actions):\n",
    "    model = Sequential()\n",
    "    model.add(Flatten(input_shape=(1,states)))\n",
    "    model.add(Dense(24, activation='relu'))\n",
    "    model.add(Dense(24, activation='relu'))\n",
    "    model.add(Dense(actions, activation='linear'))\n",
    "    return model"
   ]
  },
  {
   "cell_type": "code",
   "execution_count": null,
   "metadata": {
    "id": "UnjxYsE7U1DI"
   },
   "outputs": [],
   "source": [
    "model = build_model(states, actions)"
   ]
  },
  {
   "cell_type": "code",
   "execution_count": null,
   "metadata": {
    "colab": {
     "base_uri": "https://localhost:8080/"
    },
    "id": "1sTcdWt-U1NL",
    "outputId": "517ba240-922a-404a-bd28-d8c2a79745e3"
   },
   "outputs": [],
   "source": [
    "model.summary()\n"
   ]
  },
  {
   "cell_type": "code",
   "execution_count": null,
   "metadata": {
    "id": "txVA1KS_U1QC"
   },
   "outputs": [],
   "source": []
  },
  {
   "cell_type": "code",
   "execution_count": null,
   "metadata": {
    "id": "ipYbNUF9U1S_"
   },
   "outputs": [],
   "source": [
    "def build_agent(model, actions):\n",
    "    policy = BoltzmannQPolicy()\n",
    "    memory = SequentialMemory(limit=50000, window_length=1)\n",
    "    dqn = DQNAgent(model=model, memory=memory, policy=policy, \n",
    "                  nb_actions=actions, nb_steps_warmup=10, target_model_update=1e-2)\n",
    "    return dqn"
   ]
  },
  {
   "cell_type": "code",
   "execution_count": null,
   "metadata": {
    "colab": {
     "base_uri": "https://localhost:8080/"
    },
    "id": "UgKnCvAQU1Vv",
    "outputId": "a6c83266-9014-4a19-e987-c159e645673c"
   },
   "outputs": [],
   "source": [
    "dqn = build_agent(model, actions)\n",
    "dqn.compile(Adam(learning_rate=1e-3), metrics=['mae'])\n",
    "dqn.fit(env, nb_steps=50000, visualize=False, verbose=1)"
   ]
  },
  {
   "cell_type": "markdown",
   "metadata": {
    "id": "f2MpjUYwY0GK"
   },
   "source": []
  },
  {
   "cell_type": "code",
   "execution_count": null,
   "metadata": {
    "colab": {
     "base_uri": "https://localhost:8080/"
    },
    "id": "YDyWi5gEY0YG",
    "outputId": "7970951e-1a80-44c6-ef77-62cf9d32c438"
   },
   "outputs": [],
   "source": [
    "scores = dqn.test(env, nb_episodes=100, visualize=False)\n",
    "print(np.mean(scores.history['episode_reward']))\n"
   ]
  },
  {
   "cell_type": "code",
   "execution_count": null,
   "metadata": {},
   "outputs": [],
   "source": [
    "_ = dqn.test(env, nb_episodes=15, visualize=True)\n"
   ]
  },
  {
   "cell_type": "code",
   "execution_count": null,
   "metadata": {},
   "outputs": [],
   "source": []
  }
 ],
 "metadata": {
  "colab": {
   "provenance": []
  },
  "kernelspec": {
   "display_name": "Python 3 (ipykernel)",
   "language": "python",
   "name": "python3"
  },
  "language_info": {
   "codemirror_mode": {
    "name": "ipython",
    "version": 3
   },
   "file_extension": ".py",
   "mimetype": "text/x-python",
   "name": "python",
   "nbconvert_exporter": "python",
   "pygments_lexer": "ipython3",
   "version": "3.10.4"
  }
 },
 "nbformat": 4,
 "nbformat_minor": 4
}
