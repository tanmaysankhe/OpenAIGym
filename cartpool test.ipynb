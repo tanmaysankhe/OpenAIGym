{
 "cells": [
  {
   "cell_type": "code",
   "execution_count": 3,
   "id": "665159a8-758d-43c5-9a38-005ab89c146f",
   "metadata": {},
   "outputs": [
    {
     "name": "stdout",
     "output_type": "stream",
     "text": [
      "Requirement already satisfied: tensorflow in c:\\rasengan\\openaigym\\env\\lib\\site-packages (2.12.0)\n",
      "Requirement already satisfied: tensorflow-intel==2.12.0 in c:\\rasengan\\openaigym\\env\\lib\\site-packages (from tensorflow) (2.12.0)\n",
      "Requirement already satisfied: flatbuffers>=2.0 in c:\\rasengan\\openaigym\\env\\lib\\site-packages (from tensorflow-intel==2.12.0->tensorflow) (23.5.9)\n",
      "Requirement already satisfied: h5py>=2.9.0 in c:\\rasengan\\openaigym\\env\\lib\\site-packages (from tensorflow-intel==2.12.0->tensorflow) (3.8.0)\n",
      "Requirement already satisfied: gast<=0.4.0,>=0.2.1 in c:\\rasengan\\openaigym\\env\\lib\\site-packages (from tensorflow-intel==2.12.0->tensorflow) (0.4.0)\n",
      "Requirement already satisfied: wrapt<1.15,>=1.11.0 in c:\\rasengan\\openaigym\\env\\lib\\site-packages (from tensorflow-intel==2.12.0->tensorflow) (1.14.1)\n",
      "Requirement already satisfied: typing-extensions>=3.6.6 in c:\\rasengan\\openaigym\\env\\lib\\site-packages (from tensorflow-intel==2.12.0->tensorflow) (4.5.0)\n",
      "Requirement already satisfied: keras<2.13,>=2.12.0 in c:\\rasengan\\openaigym\\env\\lib\\site-packages (from tensorflow-intel==2.12.0->tensorflow) (2.12.0)\n",
      "Requirement already satisfied: tensorflow-io-gcs-filesystem>=0.23.1 in c:\\rasengan\\openaigym\\env\\lib\\site-packages (from tensorflow-intel==2.12.0->tensorflow) (0.31.0)\n",
      "Requirement already satisfied: six>=1.12.0 in c:\\rasengan\\openaigym\\env\\lib\\site-packages (from tensorflow-intel==2.12.0->tensorflow) (1.16.0)\n",
      "Requirement already satisfied: opt-einsum>=2.3.2 in c:\\rasengan\\openaigym\\env\\lib\\site-packages (from tensorflow-intel==2.12.0->tensorflow) (3.3.0)\n",
      "Requirement already satisfied: protobuf!=4.21.0,!=4.21.1,!=4.21.2,!=4.21.3,!=4.21.4,!=4.21.5,<5.0.0dev,>=3.20.3 in c:\\rasengan\\openaigym\\env\\lib\\site-packages (from tensorflow-intel==2.12.0->tensorflow) (4.23.1)\n",
      "Requirement already satisfied: packaging in c:\\rasengan\\openaigym\\env\\lib\\site-packages (from tensorflow-intel==2.12.0->tensorflow) (23.1)\n",
      "Requirement already satisfied: google-pasta>=0.1.1 in c:\\rasengan\\openaigym\\env\\lib\\site-packages (from tensorflow-intel==2.12.0->tensorflow) (0.2.0)\n",
      "Requirement already satisfied: absl-py>=1.0.0 in c:\\rasengan\\openaigym\\env\\lib\\site-packages (from tensorflow-intel==2.12.0->tensorflow) (1.4.0)\n",
      "Requirement already satisfied: astunparse>=1.6.0 in c:\\rasengan\\openaigym\\env\\lib\\site-packages (from tensorflow-intel==2.12.0->tensorflow) (1.6.3)\n",
      "Requirement already satisfied: tensorflow-estimator<2.13,>=2.12.0 in c:\\rasengan\\openaigym\\env\\lib\\site-packages (from tensorflow-intel==2.12.0->tensorflow) (2.12.0)\n",
      "Requirement already satisfied: grpcio<2.0,>=1.24.3 in c:\\rasengan\\openaigym\\env\\lib\\site-packages (from tensorflow-intel==2.12.0->tensorflow) (1.54.2)\n",
      "Requirement already satisfied: termcolor>=1.1.0 in c:\\rasengan\\openaigym\\env\\lib\\site-packages (from tensorflow-intel==2.12.0->tensorflow) (2.3.0)\n",
      "Requirement already satisfied: setuptools in c:\\rasengan\\openaigym\\env\\lib\\site-packages (from tensorflow-intel==2.12.0->tensorflow) (58.1.0)\n",
      "Requirement already satisfied: numpy<1.24,>=1.22 in c:\\rasengan\\openaigym\\env\\lib\\site-packages (from tensorflow-intel==2.12.0->tensorflow) (1.23.5)\n",
      "Requirement already satisfied: libclang>=13.0.0 in c:\\rasengan\\openaigym\\env\\lib\\site-packages (from tensorflow-intel==2.12.0->tensorflow) (16.0.0)\n",
      "Requirement already satisfied: tensorboard<2.13,>=2.12 in c:\\rasengan\\openaigym\\env\\lib\\site-packages (from tensorflow-intel==2.12.0->tensorflow) (2.12.3)\n",
      "Requirement already satisfied: jax>=0.3.15 in c:\\rasengan\\openaigym\\env\\lib\\site-packages (from tensorflow-intel==2.12.0->tensorflow) (0.4.10)\n",
      "Requirement already satisfied: wheel<1.0,>=0.23.0 in c:\\rasengan\\openaigym\\env\\lib\\site-packages (from astunparse>=1.6.0->tensorflow-intel==2.12.0->tensorflow) (0.40.0)\n",
      "Requirement already satisfied: ml-dtypes>=0.1.0 in c:\\rasengan\\openaigym\\env\\lib\\site-packages (from jax>=0.3.15->tensorflow-intel==2.12.0->tensorflow) (0.1.0)\n",
      "Requirement already satisfied: scipy>=1.7 in c:\\rasengan\\openaigym\\env\\lib\\site-packages (from jax>=0.3.15->tensorflow-intel==2.12.0->tensorflow) (1.10.1)\n",
      "Requirement already satisfied: markdown>=2.6.8 in c:\\rasengan\\openaigym\\env\\lib\\site-packages (from tensorboard<2.13,>=2.12->tensorflow-intel==2.12.0->tensorflow) (3.4.3)\n",
      "Requirement already satisfied: werkzeug>=1.0.1 in c:\\rasengan\\openaigym\\env\\lib\\site-packages (from tensorboard<2.13,>=2.12->tensorflow-intel==2.12.0->tensorflow) (2.3.4)\n",
      "Requirement already satisfied: requests<3,>=2.21.0 in c:\\rasengan\\openaigym\\env\\lib\\site-packages (from tensorboard<2.13,>=2.12->tensorflow-intel==2.12.0->tensorflow) (2.30.0)\n",
      "Requirement already satisfied: tensorboard-data-server<0.8.0,>=0.7.0 in c:\\rasengan\\openaigym\\env\\lib\\site-packages (from tensorboard<2.13,>=2.12->tensorflow-intel==2.12.0->tensorflow) (0.7.0)\n",
      "Requirement already satisfied: google-auth<3,>=1.6.3 in c:\\rasengan\\openaigym\\env\\lib\\site-packages (from tensorboard<2.13,>=2.12->tensorflow-intel==2.12.0->tensorflow) (2.18.1)\n",
      "Requirement already satisfied: google-auth-oauthlib<1.1,>=0.5 in c:\\rasengan\\openaigym\\env\\lib\\site-packages (from tensorboard<2.13,>=2.12->tensorflow-intel==2.12.0->tensorflow) (1.0.0)\n",
      "Requirement already satisfied: cachetools<6.0,>=2.0.0 in c:\\rasengan\\openaigym\\env\\lib\\site-packages (from google-auth<3,>=1.6.3->tensorboard<2.13,>=2.12->tensorflow-intel==2.12.0->tensorflow) (5.3.0)\n",
      "Requirement already satisfied: urllib3<2.0 in c:\\rasengan\\openaigym\\env\\lib\\site-packages (from google-auth<3,>=1.6.3->tensorboard<2.13,>=2.12->tensorflow-intel==2.12.0->tensorflow) (1.26.15)\n",
      "Requirement already satisfied: pyasn1-modules>=0.2.1 in c:\\rasengan\\openaigym\\env\\lib\\site-packages (from google-auth<3,>=1.6.3->tensorboard<2.13,>=2.12->tensorflow-intel==2.12.0->tensorflow) (0.3.0)\n",
      "Requirement already satisfied: rsa<5,>=3.1.4 in c:\\rasengan\\openaigym\\env\\lib\\site-packages (from google-auth<3,>=1.6.3->tensorboard<2.13,>=2.12->tensorflow-intel==2.12.0->tensorflow) (4.9)\n",
      "Requirement already satisfied: requests-oauthlib>=0.7.0 in c:\\rasengan\\openaigym\\env\\lib\\site-packages (from google-auth-oauthlib<1.1,>=0.5->tensorboard<2.13,>=2.12->tensorflow-intel==2.12.0->tensorflow) (1.3.1)\n",
      "Requirement already satisfied: idna<4,>=2.5 in c:\\rasengan\\openaigym\\env\\lib\\site-packages (from requests<3,>=2.21.0->tensorboard<2.13,>=2.12->tensorflow-intel==2.12.0->tensorflow) (3.4)\n",
      "Requirement already satisfied: charset-normalizer<4,>=2 in c:\\rasengan\\openaigym\\env\\lib\\site-packages (from requests<3,>=2.21.0->tensorboard<2.13,>=2.12->tensorflow-intel==2.12.0->tensorflow) (3.1.0)\n",
      "Requirement already satisfied: certifi>=2017.4.17 in c:\\rasengan\\openaigym\\env\\lib\\site-packages (from requests<3,>=2.21.0->tensorboard<2.13,>=2.12->tensorflow-intel==2.12.0->tensorflow) (2023.5.7)\n",
      "Requirement already satisfied: MarkupSafe>=2.1.1 in c:\\rasengan\\openaigym\\env\\lib\\site-packages (from werkzeug>=1.0.1->tensorboard<2.13,>=2.12->tensorflow-intel==2.12.0->tensorflow) (2.1.2)\n",
      "Requirement already satisfied: pyasn1<0.6.0,>=0.4.6 in c:\\rasengan\\openaigym\\env\\lib\\site-packages (from pyasn1-modules>=0.2.1->google-auth<3,>=1.6.3->tensorboard<2.13,>=2.12->tensorflow-intel==2.12.0->tensorflow) (0.5.0)\n",
      "Requirement already satisfied: oauthlib>=3.0.0 in c:\\rasengan\\openaigym\\env\\lib\\site-packages (from requests-oauthlib>=0.7.0->google-auth-oauthlib<1.1,>=0.5->tensorboard<2.13,>=2.12->tensorflow-intel==2.12.0->tensorflow) (3.2.2)\n"
     ]
    },
    {
     "name": "stderr",
     "output_type": "stream",
     "text": [
      "WARNING: You are using pip version 22.0.4; however, version 23.1.2 is available.\n",
      "You should consider upgrading via the 'C:\\rasengan\\OpenAIGym\\env\\Scripts\\python.exe -m pip install --upgrade pip' command.\n"
     ]
    },
    {
     "name": "stdout",
     "output_type": "stream",
     "text": [
      "Requirement already satisfied: gym in c:\\rasengan\\openaigym\\env\\lib\\site-packages (0.26.2)\n",
      "Requirement already satisfied: numpy>=1.18.0 in c:\\rasengan\\openaigym\\env\\lib\\site-packages (from gym) (1.23.5)\n",
      "Requirement already satisfied: cloudpickle>=1.2.0 in c:\\rasengan\\openaigym\\env\\lib\\site-packages (from gym) (2.2.1)\n",
      "Requirement already satisfied: gym-notices>=0.0.4 in c:\\rasengan\\openaigym\\env\\lib\\site-packages (from gym) (0.0.8)\n"
     ]
    },
    {
     "name": "stderr",
     "output_type": "stream",
     "text": [
      "WARNING: You are using pip version 22.0.4; however, version 23.1.2 is available.\n",
      "You should consider upgrading via the 'C:\\rasengan\\OpenAIGym\\env\\Scripts\\python.exe -m pip install --upgrade pip' command.\n"
     ]
    },
    {
     "name": "stdout",
     "output_type": "stream",
     "text": [
      "Requirement already satisfied: keras in c:\\rasengan\\openaigym\\env\\lib\\site-packages (2.12.0)\n"
     ]
    },
    {
     "name": "stderr",
     "output_type": "stream",
     "text": [
      "WARNING: You are using pip version 22.0.4; however, version 23.1.2 is available.\n",
      "You should consider upgrading via the 'C:\\rasengan\\OpenAIGym\\env\\Scripts\\python.exe -m pip install --upgrade pip' command.\n"
     ]
    },
    {
     "name": "stdout",
     "output_type": "stream",
     "text": [
      "Requirement already satisfied: keras-rl2 in c:\\rasengan\\openaigym\\env\\lib\\site-packages (1.0.5)\n",
      "Requirement already satisfied: tensorflow in c:\\rasengan\\openaigym\\env\\lib\\site-packages (from keras-rl2) (2.12.0)\n",
      "Requirement already satisfied: tensorflow-intel==2.12.0 in c:\\rasengan\\openaigym\\env\\lib\\site-packages (from tensorflow->keras-rl2) (2.12.0)\n",
      "Requirement already satisfied: six>=1.12.0 in c:\\rasengan\\openaigym\\env\\lib\\site-packages (from tensorflow-intel==2.12.0->tensorflow->keras-rl2) (1.16.0)\n",
      "Requirement already satisfied: protobuf!=4.21.0,!=4.21.1,!=4.21.2,!=4.21.3,!=4.21.4,!=4.21.5,<5.0.0dev,>=3.20.3 in c:\\rasengan\\openaigym\\env\\lib\\site-packages (from tensorflow-intel==2.12.0->tensorflow->keras-rl2) (4.23.1)\n",
      "Requirement already satisfied: packaging in c:\\rasengan\\openaigym\\env\\lib\\site-packages (from tensorflow-intel==2.12.0->tensorflow->keras-rl2) (23.1)\n",
      "Requirement already satisfied: gast<=0.4.0,>=0.2.1 in c:\\rasengan\\openaigym\\env\\lib\\site-packages (from tensorflow-intel==2.12.0->tensorflow->keras-rl2) (0.4.0)\n",
      "Requirement already satisfied: astunparse>=1.6.0 in c:\\rasengan\\openaigym\\env\\lib\\site-packages (from tensorflow-intel==2.12.0->tensorflow->keras-rl2) (1.6.3)\n",
      "Requirement already satisfied: grpcio<2.0,>=1.24.3 in c:\\rasengan\\openaigym\\env\\lib\\site-packages (from tensorflow-intel==2.12.0->tensorflow->keras-rl2) (1.54.2)\n",
      "Requirement already satisfied: keras<2.13,>=2.12.0 in c:\\rasengan\\openaigym\\env\\lib\\site-packages (from tensorflow-intel==2.12.0->tensorflow->keras-rl2) (2.12.0)\n",
      "Requirement already satisfied: google-pasta>=0.1.1 in c:\\rasengan\\openaigym\\env\\lib\\site-packages (from tensorflow-intel==2.12.0->tensorflow->keras-rl2) (0.2.0)\n",
      "Requirement already satisfied: tensorflow-estimator<2.13,>=2.12.0 in c:\\rasengan\\openaigym\\env\\lib\\site-packages (from tensorflow-intel==2.12.0->tensorflow->keras-rl2) (2.12.0)\n",
      "Requirement already satisfied: h5py>=2.9.0 in c:\\rasengan\\openaigym\\env\\lib\\site-packages (from tensorflow-intel==2.12.0->tensorflow->keras-rl2) (3.8.0)\n",
      "Requirement already satisfied: wrapt<1.15,>=1.11.0 in c:\\rasengan\\openaigym\\env\\lib\\site-packages (from tensorflow-intel==2.12.0->tensorflow->keras-rl2) (1.14.1)\n",
      "Requirement already satisfied: libclang>=13.0.0 in c:\\rasengan\\openaigym\\env\\lib\\site-packages (from tensorflow-intel==2.12.0->tensorflow->keras-rl2) (16.0.0)\n",
      "Requirement already satisfied: termcolor>=1.1.0 in c:\\rasengan\\openaigym\\env\\lib\\site-packages (from tensorflow-intel==2.12.0->tensorflow->keras-rl2) (2.3.0)\n",
      "Requirement already satisfied: absl-py>=1.0.0 in c:\\rasengan\\openaigym\\env\\lib\\site-packages (from tensorflow-intel==2.12.0->tensorflow->keras-rl2) (1.4.0)\n",
      "Requirement already satisfied: tensorflow-io-gcs-filesystem>=0.23.1 in c:\\rasengan\\openaigym\\env\\lib\\site-packages (from tensorflow-intel==2.12.0->tensorflow->keras-rl2) (0.31.0)\n",
      "Requirement already satisfied: jax>=0.3.15 in c:\\rasengan\\openaigym\\env\\lib\\site-packages (from tensorflow-intel==2.12.0->tensorflow->keras-rl2) (0.4.10)\n",
      "Requirement already satisfied: flatbuffers>=2.0 in c:\\rasengan\\openaigym\\env\\lib\\site-packages (from tensorflow-intel==2.12.0->tensorflow->keras-rl2) (23.5.9)\n",
      "Requirement already satisfied: typing-extensions>=3.6.6 in c:\\rasengan\\openaigym\\env\\lib\\site-packages (from tensorflow-intel==2.12.0->tensorflow->keras-rl2) (4.5.0)\n",
      "Requirement already satisfied: setuptools in c:\\rasengan\\openaigym\\env\\lib\\site-packages (from tensorflow-intel==2.12.0->tensorflow->keras-rl2) (58.1.0)\n",
      "Requirement already satisfied: numpy<1.24,>=1.22 in c:\\rasengan\\openaigym\\env\\lib\\site-packages (from tensorflow-intel==2.12.0->tensorflow->keras-rl2) (1.23.5)\n",
      "Requirement already satisfied: tensorboard<2.13,>=2.12 in c:\\rasengan\\openaigym\\env\\lib\\site-packages (from tensorflow-intel==2.12.0->tensorflow->keras-rl2) (2.12.3)\n",
      "Requirement already satisfied: opt-einsum>=2.3.2 in c:\\rasengan\\openaigym\\env\\lib\\site-packages (from tensorflow-intel==2.12.0->tensorflow->keras-rl2) (3.3.0)\n",
      "Requirement already satisfied: wheel<1.0,>=0.23.0 in c:\\rasengan\\openaigym\\env\\lib\\site-packages (from astunparse>=1.6.0->tensorflow-intel==2.12.0->tensorflow->keras-rl2) (0.40.0)\n",
      "Requirement already satisfied: scipy>=1.7 in c:\\rasengan\\openaigym\\env\\lib\\site-packages (from jax>=0.3.15->tensorflow-intel==2.12.0->tensorflow->keras-rl2) (1.10.1)\n",
      "Requirement already satisfied: ml-dtypes>=0.1.0 in c:\\rasengan\\openaigym\\env\\lib\\site-packages (from jax>=0.3.15->tensorflow-intel==2.12.0->tensorflow->keras-rl2) (0.1.0)\n",
      "Requirement already satisfied: tensorboard-data-server<0.8.0,>=0.7.0 in c:\\rasengan\\openaigym\\env\\lib\\site-packages (from tensorboard<2.13,>=2.12->tensorflow-intel==2.12.0->tensorflow->keras-rl2) (0.7.0)\n",
      "Requirement already satisfied: markdown>=2.6.8 in c:\\rasengan\\openaigym\\env\\lib\\site-packages (from tensorboard<2.13,>=2.12->tensorflow-intel==2.12.0->tensorflow->keras-rl2) (3.4.3)\n",
      "Requirement already satisfied: werkzeug>=1.0.1 in c:\\rasengan\\openaigym\\env\\lib\\site-packages (from tensorboard<2.13,>=2.12->tensorflow-intel==2.12.0->tensorflow->keras-rl2) (2.3.4)\n",
      "Requirement already satisfied: google-auth<3,>=1.6.3 in c:\\rasengan\\openaigym\\env\\lib\\site-packages (from tensorboard<2.13,>=2.12->tensorflow-intel==2.12.0->tensorflow->keras-rl2) (2.18.1)\n",
      "Requirement already satisfied: requests<3,>=2.21.0 in c:\\rasengan\\openaigym\\env\\lib\\site-packages (from tensorboard<2.13,>=2.12->tensorflow-intel==2.12.0->tensorflow->keras-rl2) (2.30.0)\n",
      "Requirement already satisfied: google-auth-oauthlib<1.1,>=0.5 in c:\\rasengan\\openaigym\\env\\lib\\site-packages (from tensorboard<2.13,>=2.12->tensorflow-intel==2.12.0->tensorflow->keras-rl2) (1.0.0)\n",
      "Requirement already satisfied: rsa<5,>=3.1.4 in c:\\rasengan\\openaigym\\env\\lib\\site-packages (from google-auth<3,>=1.6.3->tensorboard<2.13,>=2.12->tensorflow-intel==2.12.0->tensorflow->keras-rl2) (4.9)\n",
      "Requirement already satisfied: urllib3<2.0 in c:\\rasengan\\openaigym\\env\\lib\\site-packages (from google-auth<3,>=1.6.3->tensorboard<2.13,>=2.12->tensorflow-intel==2.12.0->tensorflow->keras-rl2) (1.26.15)\n",
      "Requirement already satisfied: cachetools<6.0,>=2.0.0 in c:\\rasengan\\openaigym\\env\\lib\\site-packages (from google-auth<3,>=1.6.3->tensorboard<2.13,>=2.12->tensorflow-intel==2.12.0->tensorflow->keras-rl2) (5.3.0)\n",
      "Requirement already satisfied: pyasn1-modules>=0.2.1 in c:\\rasengan\\openaigym\\env\\lib\\site-packages (from google-auth<3,>=1.6.3->tensorboard<2.13,>=2.12->tensorflow-intel==2.12.0->tensorflow->keras-rl2) (0.3.0)\n",
      "Requirement already satisfied: requests-oauthlib>=0.7.0 in c:\\rasengan\\openaigym\\env\\lib\\site-packages (from google-auth-oauthlib<1.1,>=0.5->tensorboard<2.13,>=2.12->tensorflow-intel==2.12.0->tensorflow->keras-rl2) (1.3.1)\n",
      "Requirement already satisfied: idna<4,>=2.5 in c:\\rasengan\\openaigym\\env\\lib\\site-packages (from requests<3,>=2.21.0->tensorboard<2.13,>=2.12->tensorflow-intel==2.12.0->tensorflow->keras-rl2) (3.4)\n",
      "Requirement already satisfied: charset-normalizer<4,>=2 in c:\\rasengan\\openaigym\\env\\lib\\site-packages (from requests<3,>=2.21.0->tensorboard<2.13,>=2.12->tensorflow-intel==2.12.0->tensorflow->keras-rl2) (3.1.0)\n",
      "Requirement already satisfied: certifi>=2017.4.17 in c:\\rasengan\\openaigym\\env\\lib\\site-packages (from requests<3,>=2.21.0->tensorboard<2.13,>=2.12->tensorflow-intel==2.12.0->tensorflow->keras-rl2) (2023.5.7)\n",
      "Requirement already satisfied: MarkupSafe>=2.1.1 in c:\\rasengan\\openaigym\\env\\lib\\site-packages (from werkzeug>=1.0.1->tensorboard<2.13,>=2.12->tensorflow-intel==2.12.0->tensorflow->keras-rl2) (2.1.2)\n",
      "Requirement already satisfied: pyasn1<0.6.0,>=0.4.6 in c:\\rasengan\\openaigym\\env\\lib\\site-packages (from pyasn1-modules>=0.2.1->google-auth<3,>=1.6.3->tensorboard<2.13,>=2.12->tensorflow-intel==2.12.0->tensorflow->keras-rl2) (0.5.0)\n",
      "Requirement already satisfied: oauthlib>=3.0.0 in c:\\rasengan\\openaigym\\env\\lib\\site-packages (from requests-oauthlib>=0.7.0->google-auth-oauthlib<1.1,>=0.5->tensorboard<2.13,>=2.12->tensorflow-intel==2.12.0->tensorflow->keras-rl2) (3.2.2)\n"
     ]
    },
    {
     "name": "stderr",
     "output_type": "stream",
     "text": [
      "WARNING: You are using pip version 22.0.4; however, version 23.1.2 is available.\n",
      "You should consider upgrading via the 'C:\\rasengan\\OpenAIGym\\env\\Scripts\\python.exe -m pip install --upgrade pip' command.\n"
     ]
    }
   ],
   "source": [
    "!pip install tensorflow\n",
    "!pip install gym\n",
    "!pip install keras\n",
    "!pip install keras-rl2"
   ]
  },
  {
   "cell_type": "code",
   "execution_count": null,
   "id": "8f44d261-b193-4e1f-bbee-86c5431c90ec",
   "metadata": {},
   "outputs": [],
   "source": []
  }
 ],
 "metadata": {
  "kernelspec": {
   "display_name": "Python 3 (ipykernel)",
   "language": "python",
   "name": "python3"
  },
  "language_info": {
   "codemirror_mode": {
    "name": "ipython",
    "version": 3
   },
   "file_extension": ".py",
   "mimetype": "text/x-python",
   "name": "python",
   "nbconvert_exporter": "python",
   "pygments_lexer": "ipython3",
   "version": "3.10.4"
  }
 },
 "nbformat": 4,
 "nbformat_minor": 5
}
